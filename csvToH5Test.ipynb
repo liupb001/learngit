{
 "cells": [
  {
   "cell_type": "code",
   "execution_count": 1,
   "metadata": {
    "collapsed": true
   },
   "outputs": [],
   "source": [
    "import numpy as np\n",
    "import h5py"
   ]
  },
  {
   "cell_type": "code",
   "execution_count": 9,
   "metadata": {
    "collapsed": false
   },
   "outputs": [],
   "source": [
    "# 测试文件 arrayTest.txt 是 a[5][2][3][3] \n",
    "array = np.loadtxt(\"D:/arrayTest.txt\",dtype = 'int32', delimiter=\" \",usecols = range(3))"
   ]
  },
  {
   "cell_type": "code",
   "execution_count": 10,
   "metadata": {
    "collapsed": false
   },
   "outputs": [
    {
     "data": {
      "text/plain": [
       "array([[ 1,  2,  3],\n",
       "       [ 4,  5,  6],\n",
       "       [ 7,  8,  9],\n",
       "       [10, 11, 12],\n",
       "       [13, 14, 15],\n",
       "       [16, 17, 18],\n",
       "       [19, 20, 21],\n",
       "       [22, 23, 24],\n",
       "       [25, 26, 27],\n",
       "       [28, 29, 30],\n",
       "       [31, 32, 33],\n",
       "       [34, 35, 36],\n",
       "       [37, 38, 39],\n",
       "       [40, 41, 42],\n",
       "       [43, 44, 45],\n",
       "       [46, 47, 48],\n",
       "       [49, 50, 51],\n",
       "       [52, 53, 54],\n",
       "       [55, 56, 57],\n",
       "       [58, 59, 60],\n",
       "       [61, 62, 63],\n",
       "       [64, 65, 66],\n",
       "       [67, 68, 69],\n",
       "       [70, 71, 72],\n",
       "       [73, 74, 75],\n",
       "       [76, 77, 78],\n",
       "       [79, 80, 81],\n",
       "       [82, 83, 84],\n",
       "       [85, 86, 87],\n",
       "       [88, 89, 90]])"
      ]
     },
     "execution_count": 10,
     "metadata": {},
     "output_type": "execute_result"
    }
   ],
   "source": [
    "array  "
   ]
  },
  {
   "cell_type": "code",
   "execution_count": 17,
   "metadata": {
    "collapsed": false,
    "scrolled": true
   },
   "outputs": [],
   "source": [
    "realData = array.reshape(5,2,3,3)  # 维度转换成我们的维度"
   ]
  },
  {
   "cell_type": "code",
   "execution_count": 18,
   "metadata": {
    "collapsed": false
   },
   "outputs": [
    {
     "data": {
      "text/plain": [
       "array([[[[ 1,  2,  3],\n",
       "         [ 4,  5,  6],\n",
       "         [ 7,  8,  9]],\n",
       "\n",
       "        [[10, 11, 12],\n",
       "         [13, 14, 15],\n",
       "         [16, 17, 18]]],\n",
       "\n",
       "\n",
       "       [[[19, 20, 21],\n",
       "         [22, 23, 24],\n",
       "         [25, 26, 27]],\n",
       "\n",
       "        [[28, 29, 30],\n",
       "         [31, 32, 33],\n",
       "         [34, 35, 36]]],\n",
       "\n",
       "\n",
       "       [[[37, 38, 39],\n",
       "         [40, 41, 42],\n",
       "         [43, 44, 45]],\n",
       "\n",
       "        [[46, 47, 48],\n",
       "         [49, 50, 51],\n",
       "         [52, 53, 54]]],\n",
       "\n",
       "\n",
       "       [[[55, 56, 57],\n",
       "         [58, 59, 60],\n",
       "         [61, 62, 63]],\n",
       "\n",
       "        [[64, 65, 66],\n",
       "         [67, 68, 69],\n",
       "         [70, 71, 72]]],\n",
       "\n",
       "\n",
       "       [[[73, 74, 75],\n",
       "         [76, 77, 78],\n",
       "         [79, 80, 81]],\n",
       "\n",
       "        [[82, 83, 84],\n",
       "         [85, 86, 87],\n",
       "         [88, 89, 90]]]])"
      ]
     },
     "execution_count": 18,
     "metadata": {},
     "output_type": "execute_result"
    }
   ],
   "source": [
    "realData"
   ]
  },
  {
   "cell_type": "code",
   "execution_count": 19,
   "metadata": {
    "collapsed": true
   },
   "outputs": [],
   "source": [
    "with h5py.File('realArray.h5') as f:  # 写 h5 文件\n",
    "    f.create_dataset(\"data\", data = realData)"
   ]
  },
  {
   "cell_type": "code",
   "execution_count": 20,
   "metadata": {
    "collapsed": false
   },
   "outputs": [],
   "source": [
    "fr = h5py.File('realArray.h5','r')  # 读 h5 文件\n",
    "myData = fr['data'].value"
   ]
  },
  {
   "cell_type": "code",
   "execution_count": 21,
   "metadata": {
    "collapsed": false
   },
   "outputs": [
    {
     "data": {
      "text/plain": [
       "array([[[[ 1,  2,  3],\n",
       "         [ 4,  5,  6],\n",
       "         [ 7,  8,  9]],\n",
       "\n",
       "        [[10, 11, 12],\n",
       "         [13, 14, 15],\n",
       "         [16, 17, 18]]],\n",
       "\n",
       "\n",
       "       [[[19, 20, 21],\n",
       "         [22, 23, 24],\n",
       "         [25, 26, 27]],\n",
       "\n",
       "        [[28, 29, 30],\n",
       "         [31, 32, 33],\n",
       "         [34, 35, 36]]],\n",
       "\n",
       "\n",
       "       [[[37, 38, 39],\n",
       "         [40, 41, 42],\n",
       "         [43, 44, 45]],\n",
       "\n",
       "        [[46, 47, 48],\n",
       "         [49, 50, 51],\n",
       "         [52, 53, 54]]],\n",
       "\n",
       "\n",
       "       [[[55, 56, 57],\n",
       "         [58, 59, 60],\n",
       "         [61, 62, 63]],\n",
       "\n",
       "        [[64, 65, 66],\n",
       "         [67, 68, 69],\n",
       "         [70, 71, 72]]],\n",
       "\n",
       "\n",
       "       [[[73, 74, 75],\n",
       "         [76, 77, 78],\n",
       "         [79, 80, 81]],\n",
       "\n",
       "        [[82, 83, 84],\n",
       "         [85, 86, 87],\n",
       "         [88, 89, 90]]]])"
      ]
     },
     "execution_count": 21,
     "metadata": {},
     "output_type": "execute_result"
    }
   ],
   "source": [
    "myData"
   ]
  },
  {
   "cell_type": "code",
   "execution_count": null,
   "metadata": {
    "collapsed": true
   },
   "outputs": [],
   "source": []
  }
 ],
 "metadata": {
  "kernelspec": {
   "display_name": "Python [conda env:python2]",
   "language": "python",
   "name": "conda-env-python2-py"
  },
  "language_info": {
   "codemirror_mode": {
    "name": "ipython",
    "version": 2
   },
   "file_extension": ".py",
   "mimetype": "text/x-python",
   "name": "python",
   "nbconvert_exporter": "python",
   "pygments_lexer": "ipython2",
   "version": "2.7.13"
  }
 },
 "nbformat": 4,
 "nbformat_minor": 1
}
